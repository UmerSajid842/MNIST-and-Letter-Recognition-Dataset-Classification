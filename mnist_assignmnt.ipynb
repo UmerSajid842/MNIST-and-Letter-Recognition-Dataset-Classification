{
  "nbformat": 4,
  "nbformat_minor": 0,
  "metadata": {
    "colab": {
      "provenance": [],
      "gpuType": "T4"
    },
    "kernelspec": {
      "name": "python3",
      "display_name": "Python 3"
    },
    "language_info": {
      "name": "python"
    },
    "accelerator": "GPU"
  },
  "cells": [
    {
      "cell_type": "code",
      "execution_count": null,
      "metadata": {
        "colab": {
          "base_uri": "https://localhost:8080/"
        },
        "id": "B6L5wCvOMqb9",
        "outputId": "b1eec7d7-febc-40e2-e579-f57b93cb7f97"
      },
      "outputs": [
        {
          "output_type": "stream",
          "name": "stdout",
          "text": [
            "Loading MNIST dataset...\n",
            "\n",
            "Using euclidean distance:\n",
            "K=1: Accuracy=0.9455\n",
            "K=2: Accuracy=0.9365\n"
          ]
        }
      ],
      "source": [
        "# Import necessary libraries\n",
        "import numpy as np\n",
        "from sklearn.model_selection import train_test_split\n",
        "from sklearn.metrics import accuracy_score, confusion_matrix\n",
        "from sklearn.neighbors import KNeighborsClassifier\n",
        "from sklearn.preprocessing import StandardScaler\n",
        "from sklearn.datasets import fetch_openml\n",
        "import matplotlib.pyplot as plt\n",
        "import seaborn as sns\n",
        "\n",
        "# Load the MNIST dataset\n",
        "print(\"Loading MNIST dataset...\")\n",
        "mnist = fetch_openml('mnist_784', version=1, as_frame=False)\n",
        "X, y = mnist.data, mnist.target\n",
        "\n",
        "# Standardize the data\n",
        "scaler = StandardScaler()\n",
        "X = scaler.fit_transform(X)\n",
        "\n",
        "# Split the dataset into training and testing sets\n",
        "X_train, X_test, y_train, y_test = train_test_split(X, y, test_size=0.2, random_state=42)\n",
        "\n",
        "# Define the distance metrics and range of K values\n",
        "distance_metrics = ['euclidean', 'manhattan', 'chebyshev']\n",
        "k_values = range(1, 11)\n",
        "\n",
        "# Store results for analysis\n",
        "results = {}\n",
        "\n",
        "# Perform classification for each distance metric and K value\n",
        "for metric in distance_metrics:\n",
        "    print(f\"\\nUsing {metric} distance:\")\n",
        "    metric_results = []\n",
        "    for k in k_values:\n",
        "        # Initialize the KNN classifier\n",
        "        knn = KNeighborsClassifier(n_neighbors=k, metric=metric)\n",
        "\n",
        "        # Fit the model\n",
        "        knn.fit(X_train, y_train)\n",
        "\n",
        "        # Predict on the test set\n",
        "        y_pred = knn.predict(X_test)\n",
        "\n",
        "        # Calculate accuracy\n",
        "        accuracy = accuracy_score(y_test, y_pred)\n",
        "\n",
        "        # Generate confusion matrix\n",
        "        cm = confusion_matrix(y_test, y_pred)\n",
        "\n",
        "        # Store results\n",
        "        metric_results.append({\n",
        "            'k': k,\n",
        "            'accuracy': accuracy,\n",
        "            'confusion_matrix': cm\n",
        "        })\n",
        "\n",
        "        print(f\"K={k}: Accuracy={accuracy:.4f}\")\n",
        "    results[metric] = metric_results\n",
        "\n",
        "# Visualize accuracy for each distance metric\n",
        "for metric, metric_results in results.items():\n",
        "    k_vals = [res['k'] for res in metric_results]\n",
        "    accuracies = [res['accuracy'] for res in metric_results]\n",
        "\n",
        "    plt.plot(k_vals, accuracies, label=f\"{metric} distance\")\n",
        "\n",
        "plt.title(\"Accuracy vs K value for MNIST Dataset\")\n",
        "plt.xlabel(\"K Value\")\n",
        "plt.ylabel(\"Accuracy\")\n",
        "plt.legend()\n",
        "plt.show()\n",
        "\n",
        "# Example: Visualize confusion matrix for a specific case\n",
        "selected_metric = 'euclidean'\n",
        "selected_k = 3\n",
        "selected_result = next(res for res in results[selected_metric] if res['k'] == selected_k)\n",
        "\n",
        "print(f\"\\nConfusion Matrix for {selected_metric} distance with K={selected_k}:\")\n",
        "sns.heatmap(selected_result['confusion_matrix'], annot=True, fmt=\"d\", cmap=\"Blues\")\n",
        "plt.title(f\"Confusion Matrix ({selected_metric}, K={selected_k})\")\n",
        "plt.xlabel(\"Predicted\")\n",
        "plt.ylabel(\"True\")\n",
        "plt.show()\n"
      ]
    }
  ]
}